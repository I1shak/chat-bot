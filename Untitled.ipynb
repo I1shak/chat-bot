{
 "cells": [
  {
   "cell_type": "code",
   "execution_count": 39,
   "id": "4de93217-6769-4ce4-9949-c092efbe923b",
   "metadata": {},
   "outputs": [],
   "source": [
    "import nltk\n",
    "from nltk.tokenize import word_tokenize\n",
    "from nltk.stem import WordNetLemmatizer\n",
    "import random\n"
   ]
  },
  {
   "cell_type": "code",
   "execution_count": null,
   "id": "16490237-f26a-49bb-9b60-f05919831e84",
   "metadata": {},
   "outputs": [],
   "source": [
    "class ChatBot:\n",
    "    def __init__(self):\n",
    "        self.intents = {\n",
    "            \"greetings\": [\"hi\", \"hello\", \"how are you?\", \"good morning\", \"hey\"],\n",
    "            \"goodbye\": [\"bye\", \"goodbye\", \"see you later\"],\n",
    "            \"name\": [\"what is your name?\", \"who are you?\"],\n",
    "            \"time\": [\"what time is it?\", \"tell me the time\"],\n",
    "            \n",
    "        }\n",
    "        self.lemmatizer = WordNetLemmatizer()\n",
    "    \n",
    "    def preprocces(self,sentence):\n",
    "        sentence = word_tokenize(sentence.lower())\n",
    "        return [self.lemmatizer.lemmatize(word) for word in sentence]\n",
    "    \n",
    "    def get_match(self,sentence):\n",
    "        data = self.preprocces(sentence)\n",
    "        for intent , phrases in self.intents.items():\n",
    "            for phrase in phrases:\n",
    "                if any(word in data for word in word_tokenize(phrase.lower())):\n",
    "                    return intent\n",
    "        return None\n",
    "    def get_response(self, intent):\n",
    "        \n",
    "        responses = {\n",
    "            \"greetings\": [\"Hello! How can I help you today?\", \"Hi there! How can I assist you?\", \"Hey! What can I do for you?\"],\n",
    "            \"goodbye\": [\"Goodbye! Have a great day!\", \"See you later!\", \"Take care!\"],\n",
    "            \"name\": [\"I'm simple-chatbot.\", \"My name is simple-chatbot\"],\n",
    "            \"time\": [f\"The current time is {self.get_current_time()}\"],\n",
    "            \n",
    "        }\n",
    "        return random.choice(responses.get(intent, [\"I don't understand.\"]))\n",
    "    def get_current_time(self):\n",
    "        from datetime import datetime\n",
    "        return datetime.now().strftime(\"%H:%M:%S\")\n",
    "    def chat(self):\n",
    "        print(\"Bot: Hello! Type 'bye' to exit.\")\n",
    "        while True:\n",
    "            sentence = input(\"u: \")\n",
    "            if sentence.lower() in ['bye', 'exit', ':q']:\n",
    "                print(\"Bot: Goodbye!\")\n",
    "                break\n",
    "            intent = self.get_match(sentence)\n",
    "            if intent:\n",
    "                response = self.get_response(intent)\n",
    "            else:\n",
    "                response = \"Sorry, I didn't understand that.\"\n",
    "            print(f\"Bot: {response}\")\n",
    "\n",
    "\n",
    "bot= ChatBot()\n",
    "bot.chat()\n",
    "\n",
    "        \n",
    "    "
   ]
  }
 ],
 "metadata": {
  "kernelspec": {
   "display_name": "Python 3 (ipykernel)",
   "language": "python",
   "name": "python3"
  },
  "language_info": {
   "codemirror_mode": {
    "name": "ipython",
    "version": 3
   },
   "file_extension": ".py",
   "mimetype": "text/x-python",
   "name": "python",
   "nbconvert_exporter": "python",
   "pygments_lexer": "ipython3",
   "version": "3.13.2"
  }
 },
 "nbformat": 4,
 "nbformat_minor": 5
}
